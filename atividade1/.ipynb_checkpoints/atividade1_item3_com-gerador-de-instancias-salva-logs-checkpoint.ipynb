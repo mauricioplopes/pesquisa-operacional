{
 "cells": [
  {
   "cell_type": "markdown",
   "id": "23bb7add-573f-4619-81ce-8a5a7da607f2",
   "metadata": {},
   "source": [
    "# Atividade 1\n",
    "## Item 3 - Problema MAX-QBF com Set Cover"
   ]
  },
  {
   "cell_type": "code",
   "execution_count": 1,
   "id": "d558e16b-614a-489f-a192-461f7a041768",
   "metadata": {},
   "outputs": [],
   "source": [
    "import gurobipy as gp\n",
    "from gurobipy import GRB\n",
    "import random\n",
    "import sys\n",
    "import io"
   ]
  },
  {
   "cell_type": "code",
   "execution_count": 2,
   "id": "f22f0429-e506-47fb-9844-f1f1f2a2e50e",
   "metadata": {},
   "outputs": [],
   "source": [
    "# geração de instâncias aleatórias\n",
    "\n",
    "def gerar_subconjuntos(n):\n",
    "    N = set(range(1, n+1))\n",
    "    S = []\n",
    "    \n",
    "    cobertos = set()\n",
    "    for i in range(n):\n",
    "        tamanho = random.randint(2, n)  # tamanho aleatório >=2\n",
    "        subconjunto = set(random.sample(range(1, n+1), tamanho))\n",
    "        S.append(subconjunto)\n",
    "        cobertos.update(subconjunto)\n",
    "    \n",
    "    # garante cobertura\n",
    "    faltando = N - cobertos\n",
    "    if faltando:\n",
    "        S[-1] = S[-1].union(faltando)\n",
    "    \n",
    "    return S\n",
    "\n",
    "\n",
    "def gerar_instance(n):\n",
    "    S = gerar_subconjuntos(n)\n",
    "    \n",
    "    linhas = []\n",
    "    linhas.append(str(n))  # número de elementos\n",
    "    linhas.append(\" \".join(str(len(s)) for s in S))  # tamanhos dos subconjuntos\n",
    "    \n",
    "    for s in S:\n",
    "        linhas.append(\" \".join(map(str, sorted(s))))  # elementos de cada subconjunto\n",
    "    \n",
    "    # segunda parte -> sequências aleatórias com tamanhos decrescentes\n",
    "    number = n\n",
    "    while number >= 1:\n",
    "        linha = \" \".join(str(random.randint(-10, 10)) for _ in range(number))\n",
    "        linhas.append(linha)\n",
    "        number -= 1\n",
    "    \n",
    "    return \"\\n\".join(linhas)"
   ]
  },
  {
   "cell_type": "code",
   "execution_count": 3,
   "id": "8252e84d-8a6d-4bba-b7d1-d72c2f32b299",
   "metadata": {},
   "outputs": [],
   "source": [
    "def solve_max_sc_qbf_linearized(input_stream, output_file_name=None):\n",
    "    \"\"\"\n",
    "    Resolve o problema MAX-QBF com Set Cover (MAX-SC-QBF)\n",
    "    utilizando a linearização da função objetivo quadrática,\n",
    "    direcionando a saída para um arquivo, se especificado.\n",
    "\n",
    "    Args:\n",
    "        input_stream: Um objeto de fluxo de entrada (ex: sys.stdin ou um arquivo aberto).\n",
    "        output_file_name: O nome do arquivo para onde a saída deve ser direcionada.\n",
    "                          Se None, a saída será para o console (sys.stdout).\n",
    "    \"\"\"\n",
    "    # Armazenar o stdout original para restaurá-lo depois\n",
    "    original_stdout = sys.stdout\n",
    "    output_file = None\n",
    "\n",
    "    try:\n",
    "        # Se um nome de arquivo de saída for fornecido, abrir o arquivo e redirecionar sys.stdout\n",
    "        if output_file_name:\n",
    "            output_file = open(output_file_name, 'w')\n",
    "            sys.stdout = output_file # Redireciona os prints do Python para o arquivo\n",
    "\n",
    "        # 1. Leitura dos dados da instância conforme Item 3.1 da Atividade [1, 2]\n",
    "        n = int(input_stream.readline().strip()) # Número de variáveis binárias / subconjuntos / elementos [1]\n",
    "        # Ler a linha de contagens de elementos por subconjunto (não usado diretamente no modelo, mas parte do formato) [1]\n",
    "        _ = input_stream.readline().strip().split()\n",
    "        # Ler as listas de elementos cobertos por cada subconjunto [1]\n",
    "        # subsets_covered_elements[i] conterá uma lista de elementos (0-indexados) cobertos pelo subconjunto i.\n",
    "        subsets_covered_elements = []\n",
    "        for _ in range(n):\n",
    "            line_elements = list(map(int, input_stream.readline().strip().split()))\n",
    "            # Ajustar elementos para 0-indexados, já que a entrada é 1-indexada [informação fora das fontes, mas comum em programação]\n",
    "            subsets_covered_elements.append([e - 1 for e in line_elements])\n",
    "\n",
    "        # Reconstruir a matriz A (assumindo formato triangular superior) [1]\n",
    "        A = [[0.0] * n for _ in range(n)]\n",
    "        # A entrada para a matriz A é triangular superior [1].\n",
    "        # Ela é lida linha por linha, preenchendo a diagonal e acima.\n",
    "        for i in range(n):\n",
    "            # Ler os coeficientes da linha atual (do a_ii até a_in)\n",
    "            line_coeffs = list(map(float, input_stream.readline().strip().split()))\n",
    "            col_idx_in_line = 0\n",
    "            for j in range(i, n): # j começa de i para preencher a diagonal e acima\n",
    "                A[i][j] = line_coeffs[col_idx_in_line]\n",
    "                col_idx_in_line += 1\n",
    "\n",
    "        # 2. Criar um novo modelo Gurobi\n",
    "        model = gp.Model(\"MAX_SC_QBF_Linearized\")\n",
    "        # 3. Adicionar as variáveis binárias originais (x_i)\n",
    "        # x[i] representa a i-ésima variável binária, indicando a seleção do subconjunto (i+1) [3]\n",
    "        x = model.addVars(n, vtype=gp.GRB.BINARY, name=\"x\")\n",
    "        # 4. Adicionar as variáveis de linearização (y_ij)\n",
    "        # y[i, j] representa o produto x_i * x_j.\n",
    "        # Como A é triangular superior, só precisamos de y_ij para i <= j.\n",
    "        y = model.addVars(n, n, vtype=gp.GRB.BINARY, name=\"y\")\n",
    "        # 5. Definir a função objetivo linearizada\n",
    "\n",
    "        # A função objetivo original do MAX-QBF é Z = ∑_{i=1 to n} ∑_{j=1 to n} a_ij * x_i * x_j [4]\n",
    "        # Com a linearização y_ij = x_i * x_j, e considerando que A[i][j] é 0 para i > j (matriz triangular superior),\n",
    "        # a função objetivo se torna linear: Z = ∑_{i=0 to n-1} ∑_{j=i to n-1} A[i][j] * y[i, j]\n",
    "        obj = gp.quicksum(A[i][j] * y[i, j] for i in range(n) for j in range(n) if i <= j)\n",
    "        model.setObjective(obj, gp.GRB.MAXIMIZE)\n",
    "        # 6. Adicionar as restrições de linearização\n",
    "        # Para cada par (i, j) onde y_ij é definido (i <= j), adicionamos as três restrições para garantir y_ij = x_i * x_j.\n",
    "\n",
    "        for i in range(n):\n",
    "            for j in range(i, n): # Iterar sobre i <= j\n",
    "                # Restrição 1: y_ij <= x_i\n",
    "                model.addConstr(y[i, j] <= x[i], f\"linear_y{i}_{j}_le_x{i}\")\n",
    "                # Restrição 2: y_ij <= x_j\n",
    "                model.addConstr(y[i, j] <= x[j], f\"linear_y{i}_{j}_le_x{j}\")\n",
    "                # Restrição 3: y_ij >= x[i] + x[j] - 1\n",
    "                model.addConstr(y[i, j] >= x[i] + x[j] - 1, f\"linear_y{i}_{j}_ge_sum_minus_1\")\n",
    "        # Para i == j, estas restrições forçam y[i,i] = x[i], o que é correto para x_i * x_i = x_i.\n",
    "        # 7. Adicionar as restrições de cobertura de conjuntos (Set Cover) [3]\n",
    "\n",
    "        # Para todo elemento k_element no universo N (de 0 a n-1 em nossa indexação interna),\n",
    "        # deve existir ao menos um subconjunto S_i selecionado (x_i=1) tal que k_element ∈ S_i.\n",
    "        for k_element in range(n): # k_element representa o índice do elemento (0 a n-1)\n",
    "            # Encontrar quais subconjuntos cobrem este elemento k_element\n",
    "            covering_subsets_for_k = []\n",
    "            for i_subset in range(n): # i_subset representa o índice do subconjunto (0 a n-1)\n",
    "                if k_element in subsets_covered_elements[i_subset]:\n",
    "                    covering_subsets_for_k.append(x[i_subset])\n",
    "\n",
    "        # Adicionar a restrição de que a soma dos x_i dos subconjuntos que cobrem k_element deve ser >= 1\n",
    "        model.addConstr(gp.quicksum(covering_subsets_for_k) >= 1, f\"cover_element_{k_element+1}\")\n",
    "        # Configurar limite de tempo (10 minutos conforme a Atividade 1, seção 4.2) [5]\n",
    "        model.Params.TimeLimit = 600 # segundos\n",
    "\n",
    "        # MUITO IMPORTANTE: Direcionar a saída de log do Gurobi para o arquivo especificado\n",
    "        if output_file_name:\n",
    "            model.Params.LogFile = output_file_name\n",
    "\n",
    "        # 8. Otimizar o modelo\n",
    "        print(\"Iniciando otimização do MAX-SC-QBF (Modelo Linearizado)...\")\n",
    "        model.optimize()\n",
    "        # 9. Obter e exibir os resultados\n",
    "        print(\"\\n\" + \"=\" * 40)\n",
    "        print(\"Resultados da Otimização (MAX-SC-QBF Linearizado):\")\n",
    "\n",
    "        print(\"=\" * 40)\n",
    "        if model.status == gp.GRB.OPTIMAL:\n",
    "            print(f\"Status: Ótimo (Optimal)\")\n",
    "            print(f\"Valor da Solução Ótima (Z): {model.ObjVal:.4f}\")\n",
    "            print(\"Valores das Variáveis x (Subconjuntos Selecionados):\")\n",
    "            selected_subsets = []\n",
    "            for i in range(n):\n",
    "                print(f\" x[{i+1}] = {int(x[i].X)}\") # Apresentando como x1 a xn\n",
    "                if x[i].X > 0.5: # Usar uma tolerância para valores binários\n",
    "                    selected_subsets.append(i + 1)\n",
    "            print(f\"Subconjuntos selecionados: {selected_subsets}\")\n",
    "        elif model.status == gp.GRB.TIME_LIMIT:\n",
    "            print(f\"Status: Limite de tempo atingido (Time Limit)\")\n",
    "\n",
    "            print(f\"Melhor Solução Encontrada (Z): {model.ObjVal:.4f}\")\n",
    "            print(f\"Gap de Otimalidade: {model.MIPGap * 100:.2f}%\")\n",
    "            print(\"Valores das Variáveis x na melhor solução encontrada:\")\n",
    "            selected_subsets = []\n",
    "            for i in range(n):\n",
    "                print(f\" x[{i+1}] = {int(x[i].X)}\")\n",
    "                if x[i].X > 0.5:\n",
    "                    selected_subsets.append(i + 1)\n",
    "            print(f\"Subconjuntos selecionados: {selected_subsets}\")\n",
    "        elif model.status == gp.GRB.INFEASIBLE:\n",
    "            print(\"Status: Inviável (Infeasible)\")\n",
    "        else:\n",
    "            print(f\"Status da Otimização: {model.status}\")\n",
    "\n",
    "    finally:\n",
    "        # Sempre restaurar o stdout original e fechar o arquivo, se ele foi aberto\n",
    "        if output_file:\n",
    "            sys.stdout = original_stdout\n",
    "            output_file.close()"
   ]
  },
  {
   "cell_type": "code",
   "execution_count": 4,
   "id": "1991adf0-288d-4fce-afd4-b223c0e73c60",
   "metadata": {},
   "outputs": [
    {
     "name": "stdin",
     "output_type": "stream",
     "text": [
      "Digite o valor de n:  5\n"
     ]
    },
    {
     "name": "stdout",
     "output_type": "stream",
     "text": [
      "--- Executando com n fornecido acima ---\n"
     ]
    }
   ],
   "source": [
    "n = int(input(\"Digite o valor de n: \"))\n",
    "example_instance_content = gerar_instance(n)\n",
    "with open('instancia' + str(n) + 'variaveis.txt', 'w', encoding='utf-8') as arquivo:\n",
    "    arquivo.write(example_instance_content)\n",
    "\n",
    "print(\"--- Executando com n fornecido acima ---\")\n",
    "solve_max_sc_qbf_linearized(io.StringIO(example_instance_content), \"log\" + str(n) + \"variaveis.txt\")"
   ]
  },
  {
   "cell_type": "code",
   "execution_count": 5,
   "id": "f4cbde14-c208-49f7-875e-b186e540c5fc",
   "metadata": {},
   "outputs": [
    {
     "name": "stdin",
     "output_type": "stream",
     "text": [
      "Digite o valor de n:  25\n"
     ]
    },
    {
     "name": "stdout",
     "output_type": "stream",
     "text": [
      "--- Executando com n fornecido acima ---\n"
     ]
    }
   ],
   "source": [
    "n = int(input(\"Digite o valor de n: \"))\n",
    "example_instance_content = gerar_instance(n)\n",
    "with open('instancia' + str(n) + 'variaveis.txt', 'w', encoding='utf-8') as arquivo:\n",
    "    arquivo.write(example_instance_content)\n",
    "\n",
    "print(\"--- Executando com n fornecido acima ---\")\n",
    "solve_max_sc_qbf_linearized(io.StringIO(example_instance_content), \"log\" + str(n) + \"variaveis.txt\")"
   ]
  },
  {
   "cell_type": "code",
   "execution_count": 6,
   "id": "8204d3ce-7427-40eb-bb00-eb1b48f9658a",
   "metadata": {},
   "outputs": [
    {
     "name": "stdin",
     "output_type": "stream",
     "text": [
      "Digite o valor de n:  50\n"
     ]
    },
    {
     "name": "stdout",
     "output_type": "stream",
     "text": [
      "--- Executando com n fornecido acima ---\n"
     ]
    }
   ],
   "source": [
    "n = int(input(\"Digite o valor de n: \"))\n",
    "example_instance_content = gerar_instance(n)\n",
    "with open('instancia' + str(n) + 'variaveis.txt', 'w', encoding='utf-8') as arquivo:\n",
    "    arquivo.write(example_instance_content)\n",
    "\n",
    "print(\"--- Executando com n fornecido acima ---\")\n",
    "solve_max_sc_qbf_linearized(io.StringIO(example_instance_content), \"log\" + str(n) + \"variaveis.txt\")"
   ]
  },
  {
   "cell_type": "code",
   "execution_count": 7,
   "id": "88d9cff7-3060-4e55-a856-81e8b64433d7",
   "metadata": {},
   "outputs": [
    {
     "name": "stdin",
     "output_type": "stream",
     "text": [
      "Digite o valor de n:  100\n"
     ]
    },
    {
     "name": "stdout",
     "output_type": "stream",
     "text": [
      "--- Executando com n fornecido acima ---\n"
     ]
    }
   ],
   "source": [
    "n = int(input(\"Digite o valor de n: \"))\n",
    "example_instance_content = gerar_instance(n)\n",
    "with open('instancia' + str(n) + 'variaveis.txt', 'w', encoding='utf-8') as arquivo:\n",
    "    arquivo.write(example_instance_content)\n",
    "\n",
    "print(\"--- Executando com n fornecido acima ---\")\n",
    "solve_max_sc_qbf_linearized(io.StringIO(example_instance_content), \"log\" + str(n) + \"variaveis.txt\")"
   ]
  },
  {
   "cell_type": "code",
   "execution_count": 8,
   "id": "68047ded-22ce-4d32-9239-1aa2c293022a",
   "metadata": {},
   "outputs": [
    {
     "name": "stdin",
     "output_type": "stream",
     "text": [
      "Digite o valor de n:  200\n"
     ]
    },
    {
     "name": "stdout",
     "output_type": "stream",
     "text": [
      "--- Executando com n fornecido acima ---\n"
     ]
    }
   ],
   "source": [
    "n = int(input(\"Digite o valor de n: \"))\n",
    "example_instance_content = gerar_instance(n)\n",
    "with open('instancia' + str(n) + 'variaveis.txt', 'w', encoding='utf-8') as arquivo:\n",
    "    arquivo.write(example_instance_content)\n",
    "\n",
    "print(\"--- Executando com n fornecido acima ---\")\n",
    "solve_max_sc_qbf_linearized(io.StringIO(example_instance_content), \"log\" + str(n) + \"variaveis.txt\")"
   ]
  },
  {
   "cell_type": "code",
   "execution_count": 9,
   "id": "bb5ec9c0-d502-445b-8437-fc5fabb0ecbf",
   "metadata": {},
   "outputs": [
    {
     "name": "stdin",
     "output_type": "stream",
     "text": [
      "Digite o valor de n:  400\n"
     ]
    },
    {
     "name": "stdout",
     "output_type": "stream",
     "text": [
      "--- Executando com n fornecido acima ---\n"
     ]
    }
   ],
   "source": [
    "n = int(input(\"Digite o valor de n: \"))\n",
    "example_instance_content = gerar_instance(n)\n",
    "with open('instancia' + str(n) + 'variaveis.txt', 'w', encoding='utf-8') as arquivo:\n",
    "    arquivo.write(example_instance_content)\n",
    "\n",
    "print(\"--- Executando com n fornecido acima ---\")\n",
    "solve_max_sc_qbf_linearized(io.StringIO(example_instance_content), \"log\" + str(n) + \"variaveis.txt\")"
   ]
  },
  {
   "cell_type": "code",
   "execution_count": null,
   "id": "e45e4bdd-b92c-4b21-91ea-0289654f77fc",
   "metadata": {},
   "outputs": [],
   "source": []
  }
 ],
 "metadata": {
  "kernelspec": {
   "display_name": "Python 3 (ipykernel)",
   "language": "python",
   "name": "python3"
  },
  "language_info": {
   "codemirror_mode": {
    "name": "ipython",
    "version": 3
   },
   "file_extension": ".py",
   "mimetype": "text/x-python",
   "name": "python",
   "nbconvert_exporter": "python",
   "pygments_lexer": "ipython3",
   "version": "3.12.1"
  }
 },
 "nbformat": 4,
 "nbformat_minor": 5
}
